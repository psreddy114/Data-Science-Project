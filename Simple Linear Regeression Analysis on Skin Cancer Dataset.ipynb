{
 "cells": [
  {
   "cell_type": "markdown",
   "id": "7545a1e2",
   "metadata": {},
   "source": [
    "# Simple Linear Regression\n",
    "\n",
    "Link: https://online.stat.psu.edu/stat462/node/91/\n",
    "\n",
    "We are analysing dataset of skincancer mortality.\n",
    "\n",
    "Variable y is the mortality due to skin cancer (number of deaths per 10 million people) and the predictor variable x is the latitude (degrees North) at the center of each of 49 states in the U.S. (The data were compiled in the 1950's, so Alaska and Hawaii were not yet states, and Washington, D.C. is included in the data set even though it is not technically a state.\n",
    "\n",
    "### Importing the required Libraries"
   ]
  },
  {
   "cell_type": "code",
   "execution_count": 68,
   "id": "bcb7122a",
   "metadata": {},
   "outputs": [],
   "source": [
    "import pandas as pd\n",
    "import numpy as np\n",
    "import seaborn as sns\n",
    "import matplotlib.pyplot as plt\n",
    "import seaborn as sns"
   ]
  },
  {
   "cell_type": "markdown",
   "id": "671e1d57",
   "metadata": {},
   "source": [
    "### Loading the dataset"
   ]
  },
  {
   "cell_type": "code",
   "execution_count": 58,
   "id": "7948fb27",
   "metadata": {},
   "outputs": [],
   "source": [
    "data = pd.read_csv(\"C:\\\\Users\\\\SHASHI\\\\OneDrive\\\\Desktop\\\\Python\\\\skincancer.csv\", delim_whitespace = True)"
   ]
  },
  {
   "cell_type": "code",
   "execution_count": 59,
   "id": "8af6a2db",
   "metadata": {},
   "outputs": [
    {
     "data": {
      "text/html": [
       "<div>\n",
       "<style scoped>\n",
       "    .dataframe tbody tr th:only-of-type {\n",
       "        vertical-align: middle;\n",
       "    }\n",
       "\n",
       "    .dataframe tbody tr th {\n",
       "        vertical-align: top;\n",
       "    }\n",
       "\n",
       "    .dataframe thead th {\n",
       "        text-align: right;\n",
       "    }\n",
       "</style>\n",
       "<table border=\"1\" class=\"dataframe\">\n",
       "  <thead>\n",
       "    <tr style=\"text-align: right;\">\n",
       "      <th></th>\n",
       "      <th>State</th>\n",
       "      <th>Lat</th>\n",
       "      <th>Mort</th>\n",
       "      <th>Ocean</th>\n",
       "      <th>Long</th>\n",
       "    </tr>\n",
       "  </thead>\n",
       "  <tbody>\n",
       "    <tr>\n",
       "      <th>0</th>\n",
       "      <td>Alabama</td>\n",
       "      <td>33.0</td>\n",
       "      <td>219</td>\n",
       "      <td>1</td>\n",
       "      <td>87.0</td>\n",
       "    </tr>\n",
       "    <tr>\n",
       "      <th>1</th>\n",
       "      <td>Arizona</td>\n",
       "      <td>34.5</td>\n",
       "      <td>160</td>\n",
       "      <td>0</td>\n",
       "      <td>112.0</td>\n",
       "    </tr>\n",
       "    <tr>\n",
       "      <th>2</th>\n",
       "      <td>Arkansas</td>\n",
       "      <td>35.0</td>\n",
       "      <td>170</td>\n",
       "      <td>0</td>\n",
       "      <td>92.5</td>\n",
       "    </tr>\n",
       "    <tr>\n",
       "      <th>3</th>\n",
       "      <td>California</td>\n",
       "      <td>37.5</td>\n",
       "      <td>182</td>\n",
       "      <td>1</td>\n",
       "      <td>119.5</td>\n",
       "    </tr>\n",
       "    <tr>\n",
       "      <th>4</th>\n",
       "      <td>Colorado</td>\n",
       "      <td>39.0</td>\n",
       "      <td>149</td>\n",
       "      <td>0</td>\n",
       "      <td>105.5</td>\n",
       "    </tr>\n",
       "  </tbody>\n",
       "</table>\n",
       "</div>"
      ],
      "text/plain": [
       "        State   Lat  Mort  Ocean   Long\n",
       "0     Alabama  33.0   219      1   87.0\n",
       "1     Arizona  34.5   160      0  112.0\n",
       "2    Arkansas  35.0   170      0   92.5\n",
       "3  California  37.5   182      1  119.5\n",
       "4    Colorado  39.0   149      0  105.5"
      ]
     },
     "execution_count": 59,
     "metadata": {},
     "output_type": "execute_result"
    }
   ],
   "source": [
    "data.head(5) # returns the top 5 rows with data."
   ]
  },
  {
   "cell_type": "code",
   "execution_count": 83,
   "id": "9fe1c28d",
   "metadata": {},
   "outputs": [
    {
     "data": {
      "text/plain": [
       "<AxesSubplot:xlabel='Lat'>"
      ]
     },
     "execution_count": 83,
     "metadata": {},
     "output_type": "execute_result"
    },
    {
     "data": {
      "image/png": "[encoded data removed]",
      "text/plain": [
       "<Figure size 432x288 with 1 Axes>"
      ]
     },
     "metadata": {
      "needs_background": "light"
     },
     "output_type": "display_data"
    }
   ],
   "source": [
    "sns.distplot(data['Lat'], kde=False, bins=50) "
   ]
  },
  {
   "cell_type": "markdown",
   "id": "a81bd6b6",
   "metadata": {},
   "source": [
    "# Visualizing the correlation between the columns"
   ]
  },
  {
   "cell_type": "code",
   "execution_count": 81,
   "id": "788d2952",
   "metadata": {},
   "outputs": [
    {
     "data": {
      "text/plain": [
       "<AxesSubplot:>"
      ]
     },
     "execution_count": 81,
     "metadata": {},
     "output_type": "execute_result"
    },
    {
     "data": {
      "image/png": "[encoded data removed]",
      "text/plain": [
       "<Figure size 432x288 with 2 Axes>"
      ]
     },
     "metadata": {
      "needs_background": "light"
     },
     "output_type": "display_data"
    }
   ],
   "source": [
    "sns.heatmap(data.corr())"
   ]
  },
  {
   "cell_type": "markdown",
   "id": "2bc4b0fb",
   "metadata": {},
   "source": [
    "### Converted the dataset in to Data Frame"
   ]
  },
  {
   "cell_type": "code",
   "execution_count": 61,
   "id": "b25a7b3b",
   "metadata": {},
   "outputs": [],
   "source": [
    "df = pd.DataFrame(data)"
   ]
  },
  {
   "cell_type": "code",
   "execution_count": 78,
   "id": "5046e7b0",
   "metadata": {},
   "outputs": [
    {
     "name": "stdout",
     "output_type": "stream",
     "text": [
      "<class 'pandas.core.frame.DataFrame'>\n",
      "RangeIndex: 49 entries, 0 to 48\n",
      "Data columns (total 5 columns):\n",
      " #   Column  Non-Null Count  Dtype  \n",
      "---  ------  --------------  -----  \n",
      " 0   State   49 non-null     object \n",
      " 1   Lat     49 non-null     float64\n",
      " 2   Mort    49 non-null     int64  \n",
      " 3   Ocean   49 non-null     int64  \n",
      " 4   Long    49 non-null     float64\n",
      "dtypes: float64(2), int64(2), object(1)\n",
      "memory usage: 2.0+ KB\n"
     ]
    }
   ],
   "source": [
    "df.info() # returns dataset details with No. of columns, No. of rows and Null or Non Null along with data type."
   ]
  },
  {
   "cell_type": "code",
   "execution_count": 79,
   "id": "89d98253",
   "metadata": {},
   "outputs": [],
   "source": [
    "x = df[['Lat']] # taking the data features\n",
    "y = df.Mort # output of our data."
   ]
  },
  {
   "cell_type": "markdown",
   "id": "695854aa",
   "metadata": {},
   "source": [
    "## Creating the Linear Regression Model and Fitting the training data\n",
    "\n",
    "Importing the linear regression model"
   ]
  },
  {
   "cell_type": "code",
   "execution_count": 73,
   "id": "1484c8df",
   "metadata": {},
   "outputs": [
    {
     "data": {
      "text/plain": [
       "LinearRegression()"
      ]
     },
     "execution_count": 73,
     "metadata": {},
     "output_type": "execute_result"
    }
   ],
   "source": [
    "from sklearn.linear_model import LinearRegression\n",
    "lr = LinearRegression()\n",
    "lr.fit(x, y)"
   ]
  },
  {
   "cell_type": "code",
   "execution_count": 74,
   "id": "88869b46",
   "metadata": {},
   "outputs": [
    {
     "data": {
      "text/plain": [
       "(49, 1)"
      ]
     },
     "execution_count": 74,
     "metadata": {},
     "output_type": "execute_result"
    }
   ],
   "source": [
    "x.shape"
   ]
  },
  {
   "cell_type": "code",
   "execution_count": 75,
   "id": "f66c1146",
   "metadata": {},
   "outputs": [
    {
     "data": {
      "text/plain": [
       "(49,)"
      ]
     },
     "execution_count": 75,
     "metadata": {},
     "output_type": "execute_result"
    }
   ],
   "source": [
    "y.shape"
   ]
  },
  {
   "cell_type": "markdown",
   "id": "54d43acb",
   "metadata": {},
   "source": [
    "# Predicting the Test Results"
   ]
  },
  {
   "cell_type": "code",
   "execution_count": 76,
   "id": "94498692",
   "metadata": {},
   "outputs": [
    {
     "data": {
      "text/plain": [
       "array([191.92737147, 182.96091785, 179.97209998, 165.02801062,\n",
       "       156.061557  , 139.32417691, 156.061557  , 156.061557  ,\n",
       "       221.81555019, 191.92737147, 123.1845604 , 150.08392125,\n",
       "       148.88839411, 136.93312262, 159.05037487, 163.23471989,\n",
       "       202.6871158 , 119.00021538, 156.061557  , 136.93312262,\n",
       "       129.16219615, 114.21810679, 193.12289861, 159.05037487,\n",
       "       108.24047104, 141.11746764, 156.061557  , 127.36890543,\n",
       "       148.88839411, 179.97209998, 132.15101402, 176.9832821 ,\n",
       "       105.25165317, 148.88839411, 176.9832821 , 126.17337828,\n",
       "       145.30181266, 139.32417691, 187.14526287, 121.39126968,\n",
       "       173.99446423, 200.89382508, 153.07273913, 126.17337828,\n",
       "       165.02801062, 105.25165317, 157.25708415, 123.1845604 ,\n",
       "       132.15101402])"
      ]
     },
     "execution_count": 76,
     "metadata": {},
     "output_type": "execute_result"
    }
   ],
   "source": [
    "y_prediction = lr.predict(x)\n",
    "y_prediction"
   ]
  },
  {
   "cell_type": "markdown",
   "id": "37d3c244",
   "metadata": {},
   "source": [
    "# Visualisation of the Data"
   ]
  },
  {
   "cell_type": "code",
   "execution_count": 77,
   "id": "37cb63b7",
   "metadata": {},
   "outputs": [
    {
     "data": {
      "image/png": "[encoded data removed]",
      "text/plain": [
       "<Figure size 432x288 with 1 Axes>"
      ]
     },
     "metadata": {
      "needs_background": "light"
     },
     "output_type": "display_data"
    }
   ],
   "source": [
    "plt.scatter(x,y, color = 'Red')\n",
    "plt.plot(x, lr.predict(x),color='Orange')\n",
    "plt.title('Skin Cancer Mortality versus State Latitude (df)')\n",
    "plt.xlabel('Latitude (at center of state)')\n",
    "plt.ylabel('Mortality(Deaths per 10 Million)')\n",
    "plt.show()"
   ]
  },
  {
   "cell_type": "markdown",
   "id": "d1b9e6f6",
   "metadata": {},
   "source": [
    "You might anticipate that if you lived in the higher latitudes of the northern U.S., the less exposed you'd be to the harmful rays of the sun, and therefore, the less risk you'd have of death due to skin cancer. The scatter plot supports such a hypothesis. There appears to be a negative linear relationship between latitude and mortality due to skin cancer, but the relationship is not perfect. Indeed, the plot exhibits some \"trend,\" but it also exhibits some \"scatter.\" Therefore, it is a statistical relationship, not a deterministic one."
   ]
  }
 ],
 "metadata": {
  "kernelspec": {
   "display_name": "Python 3",
   "language": "python",
   "name": "python3"
  },
  "language_info": {
   "codemirror_mode": {
    "name": "ipython",
    "version": 3
   },
   "file_extension": ".py",
   "mimetype": "text/x-python",
   "name": "python",
   "nbconvert_exporter": "python",
   "pygments_lexer": "ipython3",
   "version": "3.8.5"
  }
 },
 "nbformat": 4,
 "nbformat_minor": 5
}
