{
 "cells": [
  {
   "cell_type": "code",
   "execution_count": 67,
   "metadata": {},
   "outputs": [],
   "source": [
    "# Data Pre processing for Iris Data in Python\n",
    "# Link: https://www.kaggle.com/ash316/ml-from-scratch-with-iris\n",
    "\n",
    "import pandas as pd\n",
    "import numpy as np\n",
    "import seaborn as sns\n",
    "import matplotlib.pyplot as plt\n",
    "\n",
    "from subprocess import check_output"
   ]
  },
  {
   "cell_type": "code",
   "execution_count": 68,
   "metadata": {},
   "outputs": [],
   "source": [
    "# This Python 3 environment comes with many helpful analytics libraries installed\n",
    "# It is defined by the kaggle/python docker image: https://github.com/kaggle/docker-python\n",
    "# For example, here's several helpful packages to load in \n",
    "\n",
    "import numpy as np # linear algebra\n",
    "import pandas as pd # data processing, CSV file I/O (e.g. pd.read_csv)\n",
    "import seaborn as sns\n",
    "import matplotlib.pyplot as plt\n",
    "# Input data files are available in the \"../input/\" directory.\n",
    "# For example, running this (by clicking run or pressing Shift+Enter) will list the files in the input directory\n",
    "\n",
    "from subprocess import check_output"
   ]
  },
  {
   "cell_type": "code",
   "execution_count": 146,
   "metadata": {},
   "outputs": [
    {
     "data": {
      "text/html": [
       "<div>\n",
       "<style scoped>\n",
       "    .dataframe tbody tr th:only-of-type {\n",
       "        vertical-align: middle;\n",
       "    }\n",
       "\n",
       "    .dataframe tbody tr th {\n",
       "        vertical-align: top;\n",
       "    }\n",
       "\n",
       "    .dataframe thead th {\n",
       "        text-align: right;\n",
       "    }\n",
       "</style>\n",
       "<table border=\"1\" class=\"dataframe\">\n",
       "  <thead>\n",
       "    <tr style=\"text-align: right;\">\n",
       "      <th></th>\n",
       "      <th>Id</th>\n",
       "      <th>Sepal.Length</th>\n",
       "      <th>Sepal.Width</th>\n",
       "      <th>Petal.Length</th>\n",
       "      <th>Petal.Width</th>\n",
       "      <th>Species</th>\n",
       "    </tr>\n",
       "  </thead>\n",
       "  <tbody>\n",
       "    <tr>\n",
       "      <th>0</th>\n",
       "      <td>1</td>\n",
       "      <td>5.1</td>\n",
       "      <td>3.5</td>\n",
       "      <td>1.4</td>\n",
       "      <td>0.2</td>\n",
       "      <td>setosa</td>\n",
       "    </tr>\n",
       "    <tr>\n",
       "      <th>1</th>\n",
       "      <td>2</td>\n",
       "      <td>4.9</td>\n",
       "      <td>3.0</td>\n",
       "      <td>1.4</td>\n",
       "      <td>0.2</td>\n",
       "      <td>setosa</td>\n",
       "    </tr>\n",
       "    <tr>\n",
       "      <th>2</th>\n",
       "      <td>3</td>\n",
       "      <td>4.7</td>\n",
       "      <td>3.2</td>\n",
       "      <td>1.3</td>\n",
       "      <td>0.2</td>\n",
       "      <td>setosa</td>\n",
       "    </tr>\n",
       "    <tr>\n",
       "      <th>3</th>\n",
       "      <td>4</td>\n",
       "      <td>4.6</td>\n",
       "      <td>3.1</td>\n",
       "      <td>1.5</td>\n",
       "      <td>0.2</td>\n",
       "      <td>setosa</td>\n",
       "    </tr>\n",
       "    <tr>\n",
       "      <th>4</th>\n",
       "      <td>5</td>\n",
       "      <td>5.0</td>\n",
       "      <td>3.6</td>\n",
       "      <td>1.4</td>\n",
       "      <td>0.2</td>\n",
       "      <td>setosa</td>\n",
       "    </tr>\n",
       "  </tbody>\n",
       "</table>\n",
       "</div>"
      ],
      "text/plain": [
       "   Id  Sepal.Length  Sepal.Width  Petal.Length  Petal.Width Species\n",
       "0   1           5.1          3.5           1.4          0.2  setosa\n",
       "1   2           4.9          3.0           1.4          0.2  setosa\n",
       "2   3           4.7          3.2           1.3          0.2  setosa\n",
       "3   4           4.6          3.1           1.5          0.2  setosa\n",
       "4   5           5.0          3.6           1.4          0.2  setosa"
      ]
     },
     "execution_count": 146,
     "metadata": {},
     "output_type": "execute_result"
    }
   ],
   "source": [
    "# Load the dataset  Iris data in to Python\n",
    "\n",
    "Iris = pd.read_csv(\"C:/Users/SHASHI/Downloads/Iris.csv\")\n",
    "Iris.head(5) # Show the first five rows of dataset"
   ]
  },
  {
   "cell_type": "code",
   "execution_count": 147,
   "metadata": {},
   "outputs": [
    {
     "name": "stdout",
     "output_type": "stream",
     "text": [
      "<class 'pandas.core.frame.DataFrame'>\n",
      "RangeIndex: 150 entries, 0 to 149\n",
      "Data columns (total 6 columns):\n",
      " #   Column        Non-Null Count  Dtype  \n",
      "---  ------        --------------  -----  \n",
      " 0   Id            150 non-null    int64  \n",
      " 1   Sepal.Length  150 non-null    float64\n",
      " 2   Sepal.Width   150 non-null    float64\n",
      " 3   Petal.Length  150 non-null    float64\n",
      " 4   Petal.Width   150 non-null    float64\n",
      " 5   Species       150 non-null    object \n",
      "dtypes: float64(4), int64(1), object(1)\n",
      "memory usage: 7.2+ KB\n"
     ]
    }
   ],
   "source": [
    "# Checking the data set type to check if there is any inconsistences, as we can see there is no null values in the info we can process it.\n",
    "\n",
    "Iris.info()"
   ]
  },
  {
   "cell_type": "code",
   "execution_count": 149,
   "metadata": {},
   "outputs": [],
   "source": [
    "# Removing the column not necessary in pre-processing.\n",
    "\n",
    "Iris.drop('Id', axis=1, inplace=True)"
   ]
  },
  {
   "cell_type": "code",
   "execution_count": 150,
   "metadata": {},
   "outputs": [
    {
     "data": {
      "text/html": [
       "<div>\n",
       "<style scoped>\n",
       "    .dataframe tbody tr th:only-of-type {\n",
       "        vertical-align: middle;\n",
       "    }\n",
       "\n",
       "    .dataframe tbody tr th {\n",
       "        vertical-align: top;\n",
       "    }\n",
       "\n",
       "    .dataframe thead th {\n",
       "        text-align: right;\n",
       "    }\n",
       "</style>\n",
       "<table border=\"1\" class=\"dataframe\">\n",
       "  <thead>\n",
       "    <tr style=\"text-align: right;\">\n",
       "      <th></th>\n",
       "      <th>Sepal.Length</th>\n",
       "      <th>Sepal.Width</th>\n",
       "      <th>Petal.Length</th>\n",
       "      <th>Petal.Width</th>\n",
       "      <th>Species</th>\n",
       "    </tr>\n",
       "  </thead>\n",
       "  <tbody>\n",
       "    <tr>\n",
       "      <th>0</th>\n",
       "      <td>5.1</td>\n",
       "      <td>3.5</td>\n",
       "      <td>1.4</td>\n",
       "      <td>0.2</td>\n",
       "      <td>setosa</td>\n",
       "    </tr>\n",
       "    <tr>\n",
       "      <th>1</th>\n",
       "      <td>4.9</td>\n",
       "      <td>3.0</td>\n",
       "      <td>1.4</td>\n",
       "      <td>0.2</td>\n",
       "      <td>setosa</td>\n",
       "    </tr>\n",
       "    <tr>\n",
       "      <th>2</th>\n",
       "      <td>4.7</td>\n",
       "      <td>3.2</td>\n",
       "      <td>1.3</td>\n",
       "      <td>0.2</td>\n",
       "      <td>setosa</td>\n",
       "    </tr>\n",
       "    <tr>\n",
       "      <th>3</th>\n",
       "      <td>4.6</td>\n",
       "      <td>3.1</td>\n",
       "      <td>1.5</td>\n",
       "      <td>0.2</td>\n",
       "      <td>setosa</td>\n",
       "    </tr>\n",
       "    <tr>\n",
       "      <th>4</th>\n",
       "      <td>5.0</td>\n",
       "      <td>3.6</td>\n",
       "      <td>1.4</td>\n",
       "      <td>0.2</td>\n",
       "      <td>setosa</td>\n",
       "    </tr>\n",
       "  </tbody>\n",
       "</table>\n",
       "</div>"
      ],
      "text/plain": [
       "   Sepal.Length  Sepal.Width  Petal.Length  Petal.Width Species\n",
       "0           5.1          3.5           1.4          0.2  setosa\n",
       "1           4.9          3.0           1.4          0.2  setosa\n",
       "2           4.7          3.2           1.3          0.2  setosa\n",
       "3           4.6          3.1           1.5          0.2  setosa\n",
       "4           5.0          3.6           1.4          0.2  setosa"
      ]
     },
     "execution_count": 150,
     "metadata": {},
     "output_type": "execute_result"
    }
   ],
   "source": [
    "Iris.head(5)"
   ]
  },
  {
   "cell_type": "code",
   "execution_count": 151,
   "metadata": {},
   "outputs": [
    {
     "data": {
      "image/png": "[encoded data removed]",
      "text/plain": [
       "<Figure size 720x432 with 1 Axes>"
      ]
     },
     "metadata": {},
     "output_type": "display_data"
    }
   ],
   "source": [
    "# Exploratory Data Analysis\n",
    "\n",
    "fig = Iris[Iris.Species == 'setosa'].plot(kind='scatter',x='Sepal.Length',y='Sepal.Width',color='Red',label='setosa')\n",
    "Iris[Iris.Species == 'versicolor'].plot(kind='scatter',x='Sepal.Length',y='Sepal.Width',color='Black',label='versicolor',ax = fig)\n",
    "Iris[Iris.Species == 'virginica'].plot(kind='scatter',x='Sepal.Length',y='Sepal.Width',color='Yellow',label='virginica',ax=fig)\n",
    "fig.set_xlabel(\"Sepal Length\")\n",
    "fig.set_ylabel(\"Sepal_Width\")\n",
    "fig.set_title(\"Sepal Length Vs Width\")\n",
    "fig=plt.gcf()\n",
    "fig.set_size_inches(10,6)\n",
    "plt.show()"
   ]
  },
  {
   "cell_type": "code",
   "execution_count": 152,
   "metadata": {},
   "outputs": [
    {
     "data": {
      "text/html": [
       "<div>\n",
       "<style scoped>\n",
       "    .dataframe tbody tr th:only-of-type {\n",
       "        vertical-align: middle;\n",
       "    }\n",
       "\n",
       "    .dataframe tbody tr th {\n",
       "        vertical-align: top;\n",
       "    }\n",
       "\n",
       "    .dataframe thead th {\n",
       "        text-align: right;\n",
       "    }\n",
       "</style>\n",
       "<table border=\"1\" class=\"dataframe\">\n",
       "  <thead>\n",
       "    <tr style=\"text-align: right;\">\n",
       "      <th></th>\n",
       "      <th>Sepal.Length</th>\n",
       "      <th>Sepal.Width</th>\n",
       "      <th>Petal.Length</th>\n",
       "      <th>Petal.Width</th>\n",
       "      <th>Species</th>\n",
       "    </tr>\n",
       "  </thead>\n",
       "  <tbody>\n",
       "    <tr>\n",
       "      <th>0</th>\n",
       "      <td>5.1</td>\n",
       "      <td>3.5</td>\n",
       "      <td>1.4</td>\n",
       "      <td>0.2</td>\n",
       "      <td>setosa</td>\n",
       "    </tr>\n",
       "    <tr>\n",
       "      <th>1</th>\n",
       "      <td>4.9</td>\n",
       "      <td>3.0</td>\n",
       "      <td>1.4</td>\n",
       "      <td>0.2</td>\n",
       "      <td>setosa</td>\n",
       "    </tr>\n",
       "    <tr>\n",
       "      <th>2</th>\n",
       "      <td>4.7</td>\n",
       "      <td>3.2</td>\n",
       "      <td>1.3</td>\n",
       "      <td>0.2</td>\n",
       "      <td>setosa</td>\n",
       "    </tr>\n",
       "  </tbody>\n",
       "</table>\n",
       "</div>"
      ],
      "text/plain": [
       "   Sepal.Length  Sepal.Width  Petal.Length  Petal.Width Species\n",
       "0           5.1          3.5           1.4          0.2  setosa\n",
       "1           4.9          3.0           1.4          0.2  setosa\n",
       "2           4.7          3.2           1.3          0.2  setosa"
      ]
     },
     "execution_count": 152,
     "metadata": {},
     "output_type": "execute_result"
    }
   ],
   "source": [
    "# Above graph show relationship between sepal length and width\n",
    "Iris.head(3)"
   ]
  },
  {
   "cell_type": "code",
   "execution_count": 153,
   "metadata": {},
   "outputs": [
    {
     "data": {
      "image/png": "[encoded data removed]",
      "text/plain": [
       "<Figure size 720x432 with 1 Axes>"
      ]
     },
     "metadata": {},
     "output_type": "display_data"
    }
   ],
   "source": [
    "# Below graph will show the relationship between Petal length and Width.\n",
    "\n",
    "fig = Iris[Iris.Species == 'setosa'].plot(kind='scatter',x='Petal.Length',y='Petal.Width',color='Red',label='setosa')\n",
    "Iris[Iris.Species == 'versicolor'].plot(kind='scatter',x='Petal.Length',y='Petal.Width',color='Black',label='versicolor',ax = fig)\n",
    "Iris[Iris.Species == 'virginica'].plot(kind='scatter',x='Petal.Length',y='Petal.Width',color='Yellow',label='virginica',ax=fig)\n",
    "fig.set_xlabel(\"Petal Length\")\n",
    "fig.set_ylabel(\"Petal_Width\")\n",
    "fig.set_title(\"Petal Length Vs Width\")\n",
    "fig=plt.gcf()\n",
    "fig.set_size_inches(10,6)\n",
    "plt.show()"
   ]
  },
  {
   "cell_type": "code",
   "execution_count": 154,
   "metadata": {},
   "outputs": [
    {
     "data": {
      "image/png": "[encoded data removed]",
      "text/plain": [
       "<Figure size 864x432 with 4 Axes>"
      ]
     },
     "metadata": {},
     "output_type": "display_data"
    }
   ],
   "source": [
    "# Lets check how are the length and width are distributed.\n",
    "\n",
    "Iris.hist(edgecolor='Red', linewidth=2)\n",
    "fig=plt.gcf()\n",
    "fig.set_size_inches(12,6)\n",
    "plt.show()"
   ]
  },
  {
   "cell_type": "code",
   "execution_count": 155,
   "metadata": {},
   "outputs": [
    {
     "data": {
      "text/html": [
       "<div>\n",
       "<style scoped>\n",
       "    .dataframe tbody tr th:only-of-type {\n",
       "        vertical-align: middle;\n",
       "    }\n",
       "\n",
       "    .dataframe tbody tr th {\n",
       "        vertical-align: top;\n",
       "    }\n",
       "\n",
       "    .dataframe thead th {\n",
       "        text-align: right;\n",
       "    }\n",
       "</style>\n",
       "<table border=\"1\" class=\"dataframe\">\n",
       "  <thead>\n",
       "    <tr style=\"text-align: right;\">\n",
       "      <th></th>\n",
       "      <th>Sepal.Length</th>\n",
       "      <th>Sepal.Width</th>\n",
       "      <th>Petal.Length</th>\n",
       "      <th>Petal.Width</th>\n",
       "      <th>Species</th>\n",
       "    </tr>\n",
       "  </thead>\n",
       "  <tbody>\n",
       "    <tr>\n",
       "      <th>0</th>\n",
       "      <td>5.1</td>\n",
       "      <td>3.5</td>\n",
       "      <td>1.4</td>\n",
       "      <td>0.2</td>\n",
       "      <td>setosa</td>\n",
       "    </tr>\n",
       "    <tr>\n",
       "      <th>1</th>\n",
       "      <td>4.9</td>\n",
       "      <td>3.0</td>\n",
       "      <td>1.4</td>\n",
       "      <td>0.2</td>\n",
       "      <td>setosa</td>\n",
       "    </tr>\n",
       "  </tbody>\n",
       "</table>\n",
       "</div>"
      ],
      "text/plain": [
       "   Sepal.Length  Sepal.Width  Petal.Length  Petal.Width Species\n",
       "0           5.1          3.5           1.4          0.2  setosa\n",
       "1           4.9          3.0           1.4          0.2  setosa"
      ]
     },
     "execution_count": 155,
     "metadata": {},
     "output_type": "execute_result"
    }
   ],
   "source": [
    "Iris.head(2)"
   ]
  },
  {
   "cell_type": "code",
   "execution_count": 156,
   "metadata": {},
   "outputs": [
    {
     "data": {
      "text/plain": [
       "<AxesSubplot:xlabel='Species', ylabel='Sepal.Width'>"
      ]
     },
     "execution_count": 156,
     "metadata": {},
     "output_type": "execute_result"
    },
    {
     "data": {
      "image/png": "[encoded data removed]",
      "text/plain": [
       "<Figure size 1080x720 with 4 Axes>"
      ]
     },
     "metadata": {},
     "output_type": "display_data"
    }
   ],
   "source": [
    "# How the length and width vary according to the species.\n",
    "\n",
    "plt.figure(figsize=(15,10))\n",
    "plt.subplot(2,2,1)\n",
    "sns.violinplot(x='Species',y='Petal.Length',data=Iris)\n",
    "plt.subplot(2,2,2)\n",
    "sns.violinplot(x='Species',y='Petal.Width',data=Iris)\n",
    "plt.subplot(2,2,3)\n",
    "sns.violinplot(x='Species',y='Sepal.Length',data=Iris)\n",
    "plt.subplot(2,2,4)\n",
    "sns.violinplot(x='Species',y='Sepal.Width',data=Iris)"
   ]
  },
  {
   "cell_type": "code",
   "execution_count": 79,
   "metadata": {},
   "outputs": [],
   "source": [
    "# The violinplot shows density of the length and width in the species. \n",
    "# The thinner part denotes that there is less density whereas the fatter part conveys higher density"
   ]
  },
  {
   "cell_type": "code",
   "execution_count": 157,
   "metadata": {},
   "outputs": [
    {
     "name": "stdout",
     "output_type": "stream",
     "text": [
      "(150, 5)\n"
     ]
    }
   ],
   "source": [
    "# Classification: samples belong to two or more classes and we want to learn from already labeled data,\n",
    "# how to predict the class of unlabeled data\n",
    "\n",
    "# Regression: if the desired output consists of one or more continuous variables, then the task is called regression. \n",
    "# An example of a regression problem would be the prediction of the length of a salmon as a function of its age and weight.\n",
    "\n",
    "# attributes-->An attribute is a property of an instance that may be used to determine its classification. \n",
    "# In the following dataset, the attributes are the petal and sepal length and width. It is also known as Features.\n",
    "\n",
    "# Target variable, in the machine learning context is the variable that is or should be the output. \n",
    "# Here the target variables are the 3 flower species.\n",
    "\n",
    "from sklearn.linear_model import LogisticRegression # for Logisti Regression algorithm\n",
    "from sklearn.model_selection import train_test_split # to split the dataset for training and testing\n",
    "from sklearn.neighbors import KNeighborsClassifier # for K nearest neighbours\n",
    "from sklearn import svm # for support Vector Machine SVM Algorithm\n",
    "from sklearn import metrics # for checking the model accuracy\n",
    "from sklearn.tree import DecisionTreeClassifier # for using Decision Tree Algorithm\n",
    "\n",
    "print(Iris.shape)"
   ]
  },
  {
   "cell_type": "code",
   "execution_count": 158,
   "metadata": {},
   "outputs": [
    {
     "data": {
      "image/png": "[encoded data removed]",
      "text/plain": [
       "<Figure size 504x288 with 2 Axes>"
      ]
     },
     "metadata": {},
     "output_type": "display_data"
    }
   ],
   "source": [
    "# Now, when we train any algorithm, the number of features and their correlation plays an important role. \n",
    "# If there are features and many of the features are highly correlated, then training an algorithm with all \n",
    "# the featues will reduce the accuracy. Thus features selection should be done carefully. \n",
    "# This dataset has less featues but still we will see the correlation.\n",
    "\n",
    "plt.figure(figsize=(7,4))\n",
    "sns.heatmap(Iris.corr(), annot=True, cmap='cubehelix_r') # draws heatmap with input as the correlation matrix calculated by Iris.corr().\n",
    "\n",
    "plt.show()"
   ]
  },
  {
   "cell_type": "code",
   "execution_count": 159,
   "metadata": {},
   "outputs": [
    {
     "name": "stdout",
     "output_type": "stream",
     "text": [
      "(105, 5)\n",
      "(45, 5)\n"
     ]
    },
    {
     "data": {
      "text/html": [
       "<div>\n",
       "<style scoped>\n",
       "    .dataframe tbody tr th:only-of-type {\n",
       "        vertical-align: middle;\n",
       "    }\n",
       "\n",
       "    .dataframe tbody tr th {\n",
       "        vertical-align: top;\n",
       "    }\n",
       "\n",
       "    .dataframe thead th {\n",
       "        text-align: right;\n",
       "    }\n",
       "</style>\n",
       "<table border=\"1\" class=\"dataframe\">\n",
       "  <thead>\n",
       "    <tr style=\"text-align: right;\">\n",
       "      <th></th>\n",
       "      <th>Sepal.Length</th>\n",
       "      <th>Sepal.Width</th>\n",
       "      <th>Petal.Length</th>\n",
       "      <th>Petal.Width</th>\n",
       "      <th>Species</th>\n",
       "    </tr>\n",
       "  </thead>\n",
       "  <tbody>\n",
       "    <tr>\n",
       "      <th>0</th>\n",
       "      <td>5.1</td>\n",
       "      <td>3.5</td>\n",
       "      <td>1.4</td>\n",
       "      <td>0.2</td>\n",
       "      <td>setosa</td>\n",
       "    </tr>\n",
       "    <tr>\n",
       "      <th>1</th>\n",
       "      <td>4.9</td>\n",
       "      <td>3.0</td>\n",
       "      <td>1.4</td>\n",
       "      <td>0.2</td>\n",
       "      <td>setosa</td>\n",
       "    </tr>\n",
       "  </tbody>\n",
       "</table>\n",
       "</div>"
      ],
      "text/plain": [
       "   Sepal.Length  Sepal.Width  Petal.Length  Petal.Width Species\n",
       "0           5.1          3.5           1.4          0.2  setosa\n",
       "1           4.9          3.0           1.4          0.2  setosa"
      ]
     },
     "execution_count": 159,
     "metadata": {},
     "output_type": "execute_result"
    }
   ],
   "source": [
    "# Observation--->\n",
    "\n",
    "# The Sepal Width and Length are not correlated The Petal Width and Length are highly correlated\n",
    "# We will use all the features for training the algorithm and check the accuracy.\n",
    "# Then we will use 1 Petal Feature and 1 Sepal Feature to check the accuracy of the algorithm \n",
    "# as we are using only 2 features that are not correlated. Thus we can have a variance in the dataset \n",
    "# which may help in better accuracy. We will check it later.\n",
    "\n",
    "\n",
    "# Steps To Be followed When Applying an Algorithm\n",
    "# 1. Split the dataset into training and testing dataset. \n",
    "#    The testing dataset is generally smaller than training one as it will help in training the model better.\n",
    "# 2. Select any algorithm based on the problem (classification or regression) whatever you feel may be good.\n",
    "# 3. Then pass the training dataset to the algorithm to train it. We use the .fit() method\n",
    "# 4. Then pass the testing data to the trained algorithm to predict the outcome. We use the .predict() method.\n",
    "# 5. We then check the accuracy by passing the predicted outcome and the actual output to the model.\n",
    "\n",
    "# Splitting the Data into Training and Testing Dataset\n",
    "\n",
    "train, test = train_test_split(Iris, test_size = 0.3) # In this main data is split into train and test\n",
    "# the attribute test_size = 0.3 splits the data into 70% and 30% ratio. Train=70% and test = 30%\n",
    "\n",
    "print(train.shape)\n",
    "print(test.shape)\n",
    "\n",
    "Iris.head(2)"
   ]
  },
  {
   "cell_type": "code",
   "execution_count": 160,
   "metadata": {},
   "outputs": [],
   "source": [
    "train_X = train[['Sepal.Length','Sepal.Width','Petal.Length','Petal.Width']] # taking the training data features\n",
    "train_y = train.Species # output of our training data.\n",
    "\n",
    "test_X = test[['Sepal.Length','Sepal.Width','Petal.Length','Petal.Width']] # taking the test data features\n",
    "test_y = test.Species # output value of test data"
   ]
  },
  {
   "cell_type": "code",
   "execution_count": 161,
   "metadata": {},
   "outputs": [
    {
     "data": {
      "text/html": [
       "<div>\n",
       "<style scoped>\n",
       "    .dataframe tbody tr th:only-of-type {\n",
       "        vertical-align: middle;\n",
       "    }\n",
       "\n",
       "    .dataframe tbody tr th {\n",
       "        vertical-align: top;\n",
       "    }\n",
       "\n",
       "    .dataframe thead th {\n",
       "        text-align: right;\n",
       "    }\n",
       "</style>\n",
       "<table border=\"1\" class=\"dataframe\">\n",
       "  <thead>\n",
       "    <tr style=\"text-align: right;\">\n",
       "      <th></th>\n",
       "      <th>Sepal.Length</th>\n",
       "      <th>Sepal.Width</th>\n",
       "      <th>Petal.Length</th>\n",
       "      <th>Petal.Width</th>\n",
       "    </tr>\n",
       "  </thead>\n",
       "  <tbody>\n",
       "    <tr>\n",
       "      <th>102</th>\n",
       "      <td>7.1</td>\n",
       "      <td>3.0</td>\n",
       "      <td>5.9</td>\n",
       "      <td>2.1</td>\n",
       "    </tr>\n",
       "    <tr>\n",
       "      <th>114</th>\n",
       "      <td>5.8</td>\n",
       "      <td>2.8</td>\n",
       "      <td>5.1</td>\n",
       "      <td>2.4</td>\n",
       "    </tr>\n",
       "  </tbody>\n",
       "</table>\n",
       "</div>"
      ],
      "text/plain": [
       "     Sepal.Length  Sepal.Width  Petal.Length  Petal.Width\n",
       "102           7.1          3.0           5.9          2.1\n",
       "114           5.8          2.8           5.1          2.4"
      ]
     },
     "execution_count": 161,
     "metadata": {},
     "output_type": "execute_result"
    }
   ],
   "source": [
    "# Lest check the Train and Test Dataset.\n",
    "\n",
    "train_X.head(2)"
   ]
  },
  {
   "cell_type": "code",
   "execution_count": 162,
   "metadata": {},
   "outputs": [
    {
     "data": {
      "text/html": [
       "<div>\n",
       "<style scoped>\n",
       "    .dataframe tbody tr th:only-of-type {\n",
       "        vertical-align: middle;\n",
       "    }\n",
       "\n",
       "    .dataframe tbody tr th {\n",
       "        vertical-align: top;\n",
       "    }\n",
       "\n",
       "    .dataframe thead th {\n",
       "        text-align: right;\n",
       "    }\n",
       "</style>\n",
       "<table border=\"1\" class=\"dataframe\">\n",
       "  <thead>\n",
       "    <tr style=\"text-align: right;\">\n",
       "      <th></th>\n",
       "      <th>Sepal.Length</th>\n",
       "      <th>Sepal.Width</th>\n",
       "      <th>Petal.Length</th>\n",
       "      <th>Petal.Width</th>\n",
       "    </tr>\n",
       "  </thead>\n",
       "  <tbody>\n",
       "    <tr>\n",
       "      <th>8</th>\n",
       "      <td>4.4</td>\n",
       "      <td>2.9</td>\n",
       "      <td>1.4</td>\n",
       "      <td>0.2</td>\n",
       "    </tr>\n",
       "    <tr>\n",
       "      <th>104</th>\n",
       "      <td>6.5</td>\n",
       "      <td>3.0</td>\n",
       "      <td>5.8</td>\n",
       "      <td>2.2</td>\n",
       "    </tr>\n",
       "  </tbody>\n",
       "</table>\n",
       "</div>"
      ],
      "text/plain": [
       "     Sepal.Length  Sepal.Width  Petal.Length  Petal.Width\n",
       "8             4.4          2.9           1.4          0.2\n",
       "104           6.5          3.0           5.8          2.2"
      ]
     },
     "execution_count": 162,
     "metadata": {},
     "output_type": "execute_result"
    }
   ],
   "source": [
    "test_X.head(2)"
   ]
  },
  {
   "cell_type": "code",
   "execution_count": 163,
   "metadata": {},
   "outputs": [
    {
     "data": {
      "text/plain": [
       "8          setosa\n",
       "104     virginica\n",
       "11         setosa\n",
       "93     versicolor\n",
       "26         setosa\n",
       "Name: Species, dtype: object"
      ]
     },
     "execution_count": 163,
     "metadata": {},
     "output_type": "execute_result"
    }
   ],
   "source": [
    "test_y.head()"
   ]
  },
  {
   "cell_type": "code",
   "execution_count": 164,
   "metadata": {},
   "outputs": [
    {
     "data": {
      "text/plain": [
       "102    virginica\n",
       "114    virginica\n",
       "40        setosa\n",
       "100    virginica\n",
       "107    virginica\n",
       "Name: Species, dtype: object"
      ]
     },
     "execution_count": 164,
     "metadata": {},
     "output_type": "execute_result"
    }
   ],
   "source": [
    "train_y.head()"
   ]
  },
  {
   "cell_type": "code",
   "execution_count": 165,
   "metadata": {},
   "outputs": [
    {
     "name": "stdout",
     "output_type": "stream",
     "text": [
      "The accuracy of the SVM is: 0.9777777777777777\n"
     ]
    }
   ],
   "source": [
    "# Support Vector Machine (SVM)\n",
    "\n",
    "model = svm.SVC() # selecting the algorithm\n",
    "model.fit(train_X, train_y) # we will train the algorithm with the training data and the training ouput.\n",
    "\n",
    "prediction=model.predict(test_X) # now we pass the testing data to the trained algorithm\n",
    "print('The accuracy of the SVM is:',metrics.accuracy_score(prediction,test_y)) # now we check the accuracy of the algorith.\n",
    "\n",
    "# We pass the predicted output by the model and actual output"
   ]
  },
  {
   "cell_type": "code",
   "execution_count": 166,
   "metadata": {},
   "outputs": [
    {
     "name": "stdout",
     "output_type": "stream",
     "text": [
      "The accuracy of the Logistic Regression is: 0.9777777777777777\n"
     ]
    }
   ],
   "source": [
    "# SVM has given 93% percent accuracy. We will continue to check the accuracy for different models.\n",
    "\n",
    "#Logistic Regression Model Algorithm\n",
    "\n",
    "model = LogisticRegression()\n",
    "model.fit(train_X,train_y)\n",
    "prediction=model.predict(test_X)\n",
    "print('The accuracy of the Logistic Regression is:',metrics.accuracy_score(prediction,test_y))\n"
   ]
  },
  {
   "cell_type": "code",
   "execution_count": 167,
   "metadata": {},
   "outputs": [
    {
     "name": "stdout",
     "output_type": "stream",
     "text": [
      "The accuracy of the Decision Tree is: 0.9555555555555556\n"
     ]
    }
   ],
   "source": [
    "# Decision Tree Model of Algorithm\n",
    "\n",
    "model = DecisionTreeClassifier()\n",
    "model.fit(train_X,train_y)\n",
    "prediction=model.predict(test_X)\n",
    "print('The accuracy of the Decision Tree is:', metrics.accuracy_score(prediction,test_y))"
   ]
  },
  {
   "cell_type": "code",
   "execution_count": 168,
   "metadata": {},
   "outputs": [
    {
     "name": "stdout",
     "output_type": "stream",
     "text": [
      "The accuracy of the KNN is: 1.0\n"
     ]
    }
   ],
   "source": [
    "# K-Nearest Neighbours Model of Algorithm\n",
    "\n",
    "model = KNeighborsClassifier(n_neighbors=3) # this examines 3 neighbours for putting the new data into a class\n",
    "\n",
    "model.fit(train_X,train_y)\n",
    "prediction=model.predict(test_X)\n",
    "print('The accuracy of the KNN is:',metrics.accuracy_score(prediction,test_y))"
   ]
  },
  {
   "cell_type": "code",
   "execution_count": 169,
   "metadata": {},
   "outputs": [
    {
     "name": "stderr",
     "output_type": "stream",
     "text": [
      "<ipython-input-169-755cec3ea7d3>:4: DeprecationWarning: The default dtype for empty Series will be 'object' instead of 'float64' in a future version. Specify a dtype explicitly to silence this warning.\n",
      "  a = pd.Series()\n"
     ]
    },
    {
     "data": {
      "text/html": [
       "<div>\n",
       "<style scoped>\n",
       "    .dataframe tbody tr th:only-of-type {\n",
       "        vertical-align: middle;\n",
       "    }\n",
       "\n",
       "    .dataframe tbody tr th {\n",
       "        vertical-align: top;\n",
       "    }\n",
       "\n",
       "    .dataframe thead th {\n",
       "        text-align: right;\n",
       "    }\n",
       "</style>\n",
       "<table border=\"1\" class=\"dataframe\">\n",
       "  <thead>\n",
       "    <tr style=\"text-align: right;\">\n",
       "      <th></th>\n",
       "      <th>Sepal.Length</th>\n",
       "      <th>Sepal.Width</th>\n",
       "      <th>Petal.Length</th>\n",
       "      <th>Petal.Width</th>\n",
       "      <th>Species</th>\n",
       "    </tr>\n",
       "  </thead>\n",
       "  <tbody>\n",
       "    <tr>\n",
       "      <th>0</th>\n",
       "      <td>5.1</td>\n",
       "      <td>3.5</td>\n",
       "      <td>1.4</td>\n",
       "      <td>0.2</td>\n",
       "      <td>setosa</td>\n",
       "    </tr>\n",
       "  </tbody>\n",
       "</table>\n",
       "</div>"
      ],
      "text/plain": [
       "   Sepal.Length  Sepal.Width  Petal.Length  Petal.Width Species\n",
       "0           5.1          3.5           1.4          0.2  setosa"
      ]
     },
     "execution_count": 169,
     "metadata": {},
     "output_type": "execute_result"
    },
    {
     "data": {
      "image/png": "[encoded data removed]",
      "text/plain": [
       "<Figure size 432x288 with 1 Axes>"
      ]
     },
     "metadata": {},
     "output_type": "display_data"
    }
   ],
   "source": [
    "# Checking with various values of n for K-Nearest neibhors\n",
    "\n",
    "a_index = list(range(1,11))\n",
    "a = pd.Series()\n",
    "x = [1,2,3,4,5,6,7,8,9,10]\n",
    "for i in list(range(1,11)):\n",
    "    model=KNeighborsClassifier(n_neighbors=i)\n",
    "    model.fit(train_X,train_y)\n",
    "    prediction=model.predict(test_X)\n",
    "    a=a.append(pd.Series(metrics.accuracy_score(prediction,test_y)))\n",
    "plt.plot(a_index,a)\n",
    "plt.xticks(x)\n",
    "Iris.head(1)"
   ]
  },
  {
   "cell_type": "code",
   "execution_count": 170,
   "metadata": {},
   "outputs": [],
   "source": [
    "# Creating Petals and Sepals Training Data\n",
    "\n",
    "Petal = Iris[['Petal.Length','Petal.Width','Species']]\n",
    "Sepal = Iris[['Sepal.Length','Sepal.Width','Species']]"
   ]
  },
  {
   "cell_type": "code",
   "execution_count": 171,
   "metadata": {},
   "outputs": [],
   "source": [
    "train_p, test_p = train_test_split(Petal,test_size=0.3,random_state=0) # Petals\n",
    "train_x_p=train_p[['Petal.Length','Petal.Width']]\n",
    "train_y_p=train_p.Species\n",
    "test_x_p=test_p[['Petal.Length','Petal.Width']]\n",
    "test_y_p=test_p.Species\n",
    "\n",
    "train_s, test_s = train_test_split(Sepal,test_size=0.3,random_state=0) # Sepals\n",
    "train_x_s=train_s[['Sepal.Length','Sepal.Width']]\n",
    "train_y_s=train_s.Species\n",
    "test_x_s=test_s[['Sepal.Length','Sepal.Width']]\n",
    "test_y_s=test_s.Species"
   ]
  },
  {
   "cell_type": "code",
   "execution_count": 172,
   "metadata": {},
   "outputs": [
    {
     "name": "stdout",
     "output_type": "stream",
     "text": [
      "The accuracy of the SVM using Petals is: 0.9777777777777777\n",
      "The accuracy of the SVM using Sepal is: 0.24444444444444444\n"
     ]
    }
   ],
   "source": [
    "# SVM\n",
    "\n",
    "model = svm.SVC()\n",
    "model.fit(train_x_p,train_y_p)\n",
    "prediction=model.predict(test_x_p)\n",
    "print('The accuracy of the SVM using Petals is:',metrics.accuracy_score(prediction,test_y_p))\n",
    "\n",
    "model = svm.SVC()\n",
    "model.fit(train_x_p,train_y_s)\n",
    "prediction=model.predict(test_x_s)\n",
    "print('The accuracy of the SVM using Sepal is:',metrics.accuracy_score(prediction,test_y_s))"
   ]
  },
  {
   "cell_type": "code",
   "execution_count": 174,
   "metadata": {},
   "outputs": [
    {
     "name": "stdout",
     "output_type": "stream",
     "text": [
      "The accuracy of the Logistic Regression using Petals is: 0.9777777777777777\n",
      "The accuracy of the Logistic Regression using sepals is: 0.8222222222222222\n"
     ]
    }
   ],
   "source": [
    "# Logistic Regression\n",
    "\n",
    "model = LogisticRegression()\n",
    "model.fit(train_x_p,train_y_p)\n",
    "prediction=model.predict(test_x_p)\n",
    "print('The accuracy of the Logistic Regression using Petals is:', metrics.accuracy_score(prediction,test_y_p))\n",
    "\n",
    "model.fit(train_x_s,train_y_s)\n",
    "prediction=model.predict(test_x_s)\n",
    "print('The accuracy of the Logistic Regression using sepals is:',metrics.accuracy_score(prediction, test_y_s))\n"
   ]
  },
  {
   "cell_type": "code",
   "execution_count": 176,
   "metadata": {},
   "outputs": [
    {
     "name": "stdout",
     "output_type": "stream",
     "text": [
      "The accuracy of the Decision Tree using Petals is: 0.9555555555555556\n",
      "The accuracy of the Decision Tree using Sepals is: 0.6666666666666666\n"
     ]
    }
   ],
   "source": [
    "# Decision Tree\n",
    "\n",
    "model=DecisionTreeClassifier()\n",
    "model.fit(train_x_p, train_y_p)\n",
    "prediction=model.predict(test_x_p)\n",
    "print('The accuracy of the Decision Tree using Petals is:', metrics.accuracy_score(prediction,test_y_p))\n",
    "\n",
    "model.fit(train_x_s, train_y_s)\n",
    "prediction=model.predict(test_x_s)\n",
    "print('The accuracy of the Decision Tree using Sepals is:', metrics.accuracy_score(prediction,test_y_s))"
   ]
  },
  {
   "cell_type": "code",
   "execution_count": 177,
   "metadata": {},
   "outputs": [
    {
     "name": "stdout",
     "output_type": "stream",
     "text": [
      "The accuracy of the KNN using Petals is: 0.9777777777777777\n",
      "The accuracy of the KNN using Sepals is: 0.7333333333333333\n"
     ]
    }
   ],
   "source": [
    "# K-Nearest Neighbuors\n",
    "\n",
    "model=KNeighborsClassifier(n_neighbors=3)\n",
    "model.fit(train_x_p,train_y_p)\n",
    "prediction=model.predict(test_x_p)\n",
    "print('The accuracy of the KNN using Petals is:', metrics.accuracy_score(prediction, test_y_p))\n",
    "\n",
    "model.fit(train_x_s,train_y_s)\n",
    "prediction=model.predict(test_x_s)\n",
    "print('The accuracy of the KNN using Sepals is:', metrics.accuracy_score(prediction, test_y_s))"
   ]
  }
 ],
 "metadata": {
  "kernelspec": {
   "display_name": "Python 3",
   "language": "python",
   "name": "python3"
  },
  "language_info": {
   "codemirror_mode": {
    "name": "ipython",
    "version": 3
   },
   "file_extension": ".py",
   "mimetype": "text/x-python",
   "name": "python",
   "nbconvert_exporter": "python",
   "pygments_lexer": "ipython3",
   "version": "3.8.5"
  }
 },
 "nbformat": 4,
 "nbformat_minor": 4
}
