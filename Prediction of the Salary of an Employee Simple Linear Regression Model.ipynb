{
 "cells": [
  {
   "cell_type": "markdown",
   "id": "7b396647",
   "metadata": {},
   "source": [
    "# Simple Linear Regression\n",
    "\n",
    "### Prediction of the Salary for an Employee\n",
    "\n",
    "https://www.kaggle.com/ankitakumar/prediction-of-the-salary-of-an-employee\n",
    "\n",
    "Simple Linear Regression is a statistical method to find relationship between two continuous variables. Out of the two variables present, one is independent variable and the other is dependent variable. Statistical relationship is not accurate in determining relationship between two variables. For Example relationship between height and weight.\n",
    "\n",
    "(Y = b0 + b1 * x) where, y is the dependent variable x is the independent variable b0 is the base value of the relationship b1 is the slope of the line explaining the relationship between y & x.\n",
    "\n",
    "For instance y refers to how does a person's salary change with the years of experience that he has. So in that case salary would be the dependant variable and experience will be the independent variable and the base value will be the salary of a person, who has no experience. In our code exaple, we are going to work on such a dataset.\n",
    "\n",
    "### Importing Libraries"
   ]
  },
  {
   "cell_type": "code",
   "execution_count": 15,
   "id": "541cbd18",
   "metadata": {},
   "outputs": [],
   "source": [
    "import numpy as np\n",
    "import pandas as pd\n",
    "import matplotlib.pyplot as plt\n",
    "import seaborn as sns\n",
    "%matplotlib inline"
   ]
  },
  {
   "cell_type": "markdown",
   "id": "5a2f6108",
   "metadata": {},
   "source": [
    "## Loading the Salary dataset"
   ]
  },
  {
   "cell_type": "code",
   "execution_count": 17,
   "id": "e58a5365",
   "metadata": {},
   "outputs": [],
   "source": [
    "salary = pd.read_csv(\"C:\\\\Users\\\\SHASHI\\\\OneDrive\\\\Desktop\\\\Python\\\\SimpleLinearRegression.csv\")"
   ]
  },
  {
   "cell_type": "code",
   "execution_count": 18,
   "id": "a071ff9c",
   "metadata": {},
   "outputs": [
    {
     "data": {
      "text/html": [
       "<div>\n",
       "<style scoped>\n",
       "    .dataframe tbody tr th:only-of-type {\n",
       "        vertical-align: middle;\n",
       "    }\n",
       "\n",
       "    .dataframe tbody tr th {\n",
       "        vertical-align: top;\n",
       "    }\n",
       "\n",
       "    .dataframe thead th {\n",
       "        text-align: right;\n",
       "    }\n",
       "</style>\n",
       "<table border=\"1\" class=\"dataframe\">\n",
       "  <thead>\n",
       "    <tr style=\"text-align: right;\">\n",
       "      <th></th>\n",
       "      <th>YearsExperience</th>\n",
       "      <th>Salary</th>\n",
       "    </tr>\n",
       "  </thead>\n",
       "  <tbody>\n",
       "    <tr>\n",
       "      <th>0</th>\n",
       "      <td>1.1</td>\n",
       "      <td>39343.0</td>\n",
       "    </tr>\n",
       "    <tr>\n",
       "      <th>1</th>\n",
       "      <td>1.3</td>\n",
       "      <td>46205.0</td>\n",
       "    </tr>\n",
       "    <tr>\n",
       "      <th>2</th>\n",
       "      <td>1.5</td>\n",
       "      <td>37731.0</td>\n",
       "    </tr>\n",
       "    <tr>\n",
       "      <th>3</th>\n",
       "      <td>2.0</td>\n",
       "      <td>43525.0</td>\n",
       "    </tr>\n",
       "    <tr>\n",
       "      <th>4</th>\n",
       "      <td>2.2</td>\n",
       "      <td>39891.0</td>\n",
       "    </tr>\n",
       "  </tbody>\n",
       "</table>\n",
       "</div>"
      ],
      "text/plain": [
       "   YearsExperience   Salary\n",
       "0              1.1  39343.0\n",
       "1              1.3  46205.0\n",
       "2              1.5  37731.0\n",
       "3              2.0  43525.0\n",
       "4              2.2  39891.0"
      ]
     },
     "execution_count": 18,
     "metadata": {},
     "output_type": "execute_result"
    }
   ],
   "source": [
    "salary.head()"
   ]
  },
  {
   "cell_type": "code",
   "execution_count": 19,
   "id": "179a55be",
   "metadata": {},
   "outputs": [],
   "source": [
    "x = salary.iloc[:,:-1].values\n",
    "y = salary.iloc[:,:1].values"
   ]
  },
  {
   "cell_type": "markdown",
   "id": "cccf6354",
   "metadata": {},
   "source": [
    "# Visualization of the Dataset\n",
    "\n",
    "To understand the data in a better way\n",
    "\n",
    "Below plot is used to represent univariate distribution of observations"
   ]
  },
  {
   "cell_type": "code",
   "execution_count": 20,
   "id": "1815ba26",
   "metadata": {},
   "outputs": [
    {
     "name": "stderr",
     "output_type": "stream",
     "text": [
      "C:\\Users\\SHASHI\\anaconda3\\lib\\site-packages\\seaborn\\distributions.py:2557: FutureWarning: `distplot` is a deprecated function and will be removed in a future version. Please adapt your code to use either `displot` (a figure-level function with similar flexibility) or `histplot` (an axes-level function for histograms).\n",
      "  warnings.warn(msg, FutureWarning)\n"
     ]
    },
    {
     "data": {
      "text/plain": [
       "<AxesSubplot:xlabel='YearsExperience'>"
      ]
     },
     "execution_count": 20,
     "metadata": {},
     "output_type": "execute_result"
    },
    {
     "data": {
      "image/png": "[encoded data removed]",
      "text/plain": [
       "<Figure size 432x288 with 1 Axes>"
      ]
     },
     "metadata": {
      "needs_background": "light"
     },
     "output_type": "display_data"
    }
   ],
   "source": [
    "sns.distplot(salary['YearsExperience'], kde=False, bins=10) "
   ]
  },
  {
   "cell_type": "markdown",
   "id": "30adf468",
   "metadata": {},
   "source": [
    "#### Show the counts of observations in each categorical bin using bars"
   ]
  },
  {
   "cell_type": "code",
   "execution_count": 21,
   "id": "ac3c9f41",
   "metadata": {},
   "outputs": [
    {
     "data": {
      "text/plain": [
       "<AxesSubplot:xlabel='count', ylabel='YearsExperience'>"
      ]
     },
     "execution_count": 21,
     "metadata": {},
     "output_type": "execute_result"
    },
    {
     "data": {
      "image/png": "[encoded data removed]",
      "text/plain": [
       "<Figure size 432x288 with 1 Axes>"
      ]
     },
     "metadata": {
      "needs_background": "light"
     },
     "output_type": "display_data"
    }
   ],
   "source": [
    "sns.countplot(y='YearsExperience',data=salary)"
   ]
  },
  {
   "cell_type": "code",
   "execution_count": 22,
   "id": "5de98d85",
   "metadata": {},
   "outputs": [
    {
     "data": {
      "text/plain": [
       "<AxesSubplot:xlabel='YearsExperience', ylabel='Salary'>"
      ]
     },
     "execution_count": 22,
     "metadata": {},
     "output_type": "execute_result"
    },
    {
     "data": {
      "image/png": "[encoded data removed]",
      "text/plain": [
       "<Figure size 432x288 with 1 Axes>"
      ]
     },
     "metadata": {
      "needs_background": "light"
     },
     "output_type": "display_data"
    }
   ],
   "source": [
    "# Plotting a barplot\n",
    "\n",
    "sns.barplot(x='YearsExperience',y='Salary',data=salary)"
   ]
  },
  {
   "cell_type": "markdown",
   "id": "dcfedf79",
   "metadata": {},
   "source": [
    "#### Representing the correlation among the columns using a heatmap"
   ]
  },
  {
   "cell_type": "code",
   "execution_count": 23,
   "id": "9d0a80a8",
   "metadata": {},
   "outputs": [
    {
     "data": {
      "text/plain": [
       "<AxesSubplot:>"
      ]
     },
     "execution_count": 23,
     "metadata": {},
     "output_type": "execute_result"
    },
    {
     "data": {
      "image/png": "[encoded data removed]",
      "text/plain": [
       "<Figure size 432x288 with 2 Axes>"
      ]
     },
     "metadata": {
      "needs_background": "light"
     },
     "output_type": "display_data"
    }
   ],
   "source": [
    "sns.heatmap(salary.corr())"
   ]
  },
  {
   "cell_type": "code",
   "execution_count": 24,
   "id": "edfa00b3",
   "metadata": {},
   "outputs": [
    {
     "name": "stderr",
     "output_type": "stream",
     "text": [
      "C:\\Users\\SHASHI\\anaconda3\\lib\\site-packages\\seaborn\\distributions.py:2557: FutureWarning: `distplot` is a deprecated function and will be removed in a future version. Please adapt your code to use either `displot` (a figure-level function with similar flexibility) or `histplot` (an axes-level function for histograms).\n",
      "  warnings.warn(msg, FutureWarning)\n"
     ]
    },
    {
     "data": {
      "text/plain": [
       "<AxesSubplot:xlabel='Salary', ylabel='Density'>"
      ]
     },
     "execution_count": 24,
     "metadata": {},
     "output_type": "execute_result"
    },
    {
     "data": {
      "image/png": "[encoded data removed]",
      "text/plain": [
       "<Figure size 432x288 with 1 Axes>"
      ]
     },
     "metadata": {
      "needs_background": "light"
     },
     "output_type": "display_data"
    }
   ],
   "source": [
    "sns.distplot(salary.Salary)"
   ]
  },
  {
   "cell_type": "markdown",
   "id": "3ed7e1d6",
   "metadata": {},
   "source": [
    "### Fit the scikit learn package to create the Linear Regression model\n",
    "\n",
    "Split the data into training and testing set"
   ]
  },
  {
   "cell_type": "markdown",
   "id": "723e19c9",
   "metadata": {},
   "source": [
    "#### Splitting the data using this module and setting the test size as 1/3. Rest 2/3 is used for training the data"
   ]
  },
  {
   "cell_type": "code",
   "execution_count": 25,
   "id": "66c45437",
   "metadata": {},
   "outputs": [],
   "source": [
    "from sklearn.model_selection import train_test_split"
   ]
  },
  {
   "cell_type": "code",
   "execution_count": 27,
   "id": "4a70eaee",
   "metadata": {},
   "outputs": [],
   "source": [
    "x_train, x_test, y_train, y_test = train_test_split(x,y, test_size=0.3,random_state=0)"
   ]
  },
  {
   "cell_type": "markdown",
   "id": "ae4228f1",
   "metadata": {},
   "source": [
    "## Creating the Linear Regression Model and Fitting the training data\n",
    "\n",
    "Importing the linear regression model"
   ]
  },
  {
   "cell_type": "code",
   "execution_count": 28,
   "id": "0eeb379a",
   "metadata": {},
   "outputs": [],
   "source": [
    "from sklearn.linear_model import LinearRegression"
   ]
  },
  {
   "cell_type": "code",
   "execution_count": 29,
   "id": "2624cf80",
   "metadata": {},
   "outputs": [],
   "source": [
    "lr = LinearRegression()"
   ]
  },
  {
   "cell_type": "code",
   "execution_count": 30,
   "id": "2c49cff5",
   "metadata": {},
   "outputs": [
    {
     "data": {
      "text/plain": [
       "LinearRegression()"
      ]
     },
     "execution_count": 30,
     "metadata": {},
     "output_type": "execute_result"
    }
   ],
   "source": [
    "# Fitting the training data\n",
    "\n",
    "lr.fit(x_train, y_train)"
   ]
  },
  {
   "cell_type": "code",
   "execution_count": 34,
   "id": "b938f3dc",
   "metadata": {},
   "outputs": [
    {
     "data": {
      "text/plain": [
       "(21, 1)"
      ]
     },
     "execution_count": 34,
     "metadata": {},
     "output_type": "execute_result"
    }
   ],
   "source": [
    "x_train.shape"
   ]
  },
  {
   "cell_type": "code",
   "execution_count": 35,
   "id": "3fb2850e",
   "metadata": {},
   "outputs": [
    {
     "data": {
      "text/plain": [
       "(21, 1)"
      ]
     },
     "execution_count": 35,
     "metadata": {},
     "output_type": "execute_result"
    }
   ],
   "source": [
    "y_train.shape"
   ]
  },
  {
   "cell_type": "markdown",
   "id": "fb8aebfb",
   "metadata": {},
   "source": [
    "# Predicting the Test Results"
   ]
  },
  {
   "cell_type": "code",
   "execution_count": 37,
   "id": "50eb0ea1",
   "metadata": {},
   "outputs": [
    {
     "data": {
      "text/plain": [
       "array([[ 1.5],\n",
       "       [10.3],\n",
       "       [ 4.1],\n",
       "       [ 3.9],\n",
       "       [ 9.5],\n",
       "       [ 8.7],\n",
       "       [ 9.6],\n",
       "       [ 4. ],\n",
       "       [ 5.3]])"
      ]
     },
     "execution_count": 37,
     "metadata": {},
     "output_type": "execute_result"
    }
   ],
   "source": [
    "y_prediction = lr.predict(x_test)\n",
    "y_prediction"
   ]
  },
  {
   "cell_type": "markdown",
   "id": "b2664293",
   "metadata": {},
   "source": [
    "### Visualizing the training data\n",
    "\n",
    "Plotting the actual y training values vs the y values predicted by the model using training data"
   ]
  },
  {
   "cell_type": "code",
   "execution_count": 38,
   "id": "55f354da",
   "metadata": {},
   "outputs": [
    {
     "data": {
      "image/png": "[encoded data removed]",
      "text/plain": [
       "<Figure size 432x288 with 1 Axes>"
      ]
     },
     "metadata": {
      "needs_background": "light"
     },
     "output_type": "display_data"
    }
   ],
   "source": [
    "plt.scatter(x_train,y_train, color = 'Red')\n",
    "plt.plot(x_train, lr.predict(x_train),color='Orange')\n",
    "plt.title('Salary vs Years of Experience (Training Data)')\n",
    "plt.xlabel('Years of Experience')\n",
    "plt.ylabel('Salary of an employee')\n",
    "plt.show()"
   ]
  },
  {
   "cell_type": "markdown",
   "id": "aa30179c",
   "metadata": {},
   "source": [
    "We see that the data is fitted so well and the prediction and actual data is almost the same"
   ]
  },
  {
   "cell_type": "markdown",
   "id": "214736e5",
   "metadata": {},
   "source": [
    "# Visualization of Testing Data\n",
    "\n",
    "Plotting the y test data vs y predicted data"
   ]
  },
  {
   "cell_type": "code",
   "execution_count": 39,
   "id": "a743c3fd",
   "metadata": {},
   "outputs": [
    {
     "data": {
      "image/png": "[encoded data removed]",
      "text/plain": [
       "<Figure size 432x288 with 1 Axes>"
      ]
     },
     "metadata": {
      "needs_background": "light"
     },
     "output_type": "display_data"
    }
   ],
   "source": [
    "plt.scatter(x_test, y_test, color = 'Red')\n",
    "plt.plot(x_test, lr.predict(x_test), color = 'Orange')\n",
    "plt.title('Salary vs Years of Experience (Test Data)')\n",
    "plt.xlabel('Years of Experience')\n",
    "plt.ylabel('Salary of an employee')\n",
    "plt.show()"
   ]
  },
  {
   "cell_type": "markdown",
   "id": "2d865b92",
   "metadata": {},
   "source": [
    "We see that the predicted data fits the regression line so well"
   ]
  },
  {
   "cell_type": "markdown",
   "id": "573d1eaa",
   "metadata": {},
   "source": [
    "#### Calculating the errors so as to check the difference between the actual value and predicted model value. There are certain metrics to find these error such as Mean Squared Error, Root Mean Squared Error and Mean Absolute Error"
   ]
  },
  {
   "cell_type": "code",
   "execution_count": 40,
   "id": "5f31f0e3",
   "metadata": {},
   "outputs": [
    {
     "name": "stdout",
     "output_type": "stream",
     "text": [
      "Mean Absolute Error of the Model: 2.4671622769447924e-16\n",
      "Mean Squared Error of the Model: 3.725176496877e-31\n",
      "Root Mean Squared Error of the Model: 1.5707203051290808e-08\n"
     ]
    }
   ],
   "source": [
    "from sklearn import metrics\n",
    "print('Mean Absolute Error of the Model:', metrics.mean_absolute_error(y_test, y_prediction))\n",
    "print('Mean Squared Error of the Model:', metrics.mean_squared_error(y_test, y_prediction))\n",
    "print('Root Mean Squared Error of the Model:', np.sqrt(metrics.mean_absolute_error(y_test, y_prediction)))"
   ]
  },
  {
   "cell_type": "markdown",
   "id": "545a9d0a",
   "metadata": {},
   "source": [
    "Looking at the values we see that the error is very minute and hence we can see our model gives very accurate values"
   ]
  },
  {
   "cell_type": "code",
   "execution_count": 41,
   "id": "8faf5509",
   "metadata": {},
   "outputs": [],
   "source": [
    "from sklearn.metrics import r2_score"
   ]
  },
  {
   "cell_type": "code",
   "execution_count": 42,
   "id": "8625b118",
   "metadata": {},
   "outputs": [
    {
     "data": {
      "text/plain": [
       "1.0"
      ]
     },
     "execution_count": 42,
     "metadata": {},
     "output_type": "execute_result"
    }
   ],
   "source": [
    "r2_score(y_test, y_prediction)"
   ]
  },
  {
   "cell_type": "markdown",
   "id": "10bc42fa",
   "metadata": {},
   "source": [
    "This shows that our model is completely accurate.\n",
    "\n",
    "R value lies between 0 to 1. Value of 1 represents it is completely accurate"
   ]
  }
 ],
 "metadata": {
  "kernelspec": {
   "display_name": "Python 3",
   "language": "python",
   "name": "python3"
  },
  "language_info": {
   "codemirror_mode": {
    "name": "ipython",
    "version": 3
   },
   "file_extension": ".py",
   "mimetype": "text/x-python",
   "name": "python",
   "nbconvert_exporter": "python",
   "pygments_lexer": "ipython3",
   "version": "3.8.5"
  }
 },
 "nbformat": 4,
 "nbformat_minor": 5
}
